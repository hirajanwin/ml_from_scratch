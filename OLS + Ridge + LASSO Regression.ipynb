{
 "cells": [
  {
   "cell_type": "markdown",
   "metadata": {},
   "source": [
    "The derivative of the squared error loss with respect to the parameters $\\boldsymbol{\\beta}$ is given by the following."
   ]
  },
  {
   "cell_type": "markdown",
   "metadata": {},
   "source": [
    "$$\n",
    "\\begin{aligned}\n",
    "\\mathbf{y} &= \\mathbf{X}\\boldsymbol{\\beta} \\\\\n",
    "\\hat{\\mathbf{y}} &= \\mathbf{X}\\hat{\\boldsymbol{\\beta}} \\\\\n",
    "\\mathcal{L}(\\boldsymbol{\\beta}) &= \\frac{1}{2}||\\mathbf{y} - \\hat{\\mathbf{y}}||^2\\\\\n",
    "\\frac{\\partial \\mathcal{L}(\\boldsymbol{\\beta})}{\\partial \\boldsymbol{\\beta}} &= \\frac{\\partial \\mathcal{L}}{\\partial \\hat{\\mathbf{y}}}\\frac{\\partial \\hat{\\mathbf{y}}}{\\partial \\boldsymbol{\\beta}}\\\\\n",
    "\\frac{\\partial \\mathcal{L}}{\\partial \\hat{\\mathbf{y}}} &= -\\left(\\mathbf{y} - \\hat{\\mathbf{y}}\\right) \\\\\n",
    "\\frac{\\partial \\hat{\\mathbf{y}}}{\\partial \\boldsymbol{\\beta}} &= \\mathbf{X}^\\top \\\\\n",
    "\\frac{\\partial \\mathcal{L}(\\boldsymbol{\\beta})}{\\partial \\boldsymbol{\\beta}} &= - \\mathbf{X}^\\top\\left(\\mathbf{y} - \\mathbf{\\hat{y}}\\right) \\\\\n",
    "&= \\mathbf{X}^\\top \\mathbf{e}\n",
    "\\end{aligned}\n",
    "$$"
   ]
  },
  {
   "cell_type": "markdown",
   "metadata": {},
   "source": [
    "Setting this equal to $\\mathbf{0}$, we get the typical OLS solution. "
   ]
  },
  {
   "cell_type": "markdown",
   "metadata": {},
   "source": [
    "$$\n",
    "\\begin{aligned}\n",
    "\\mathbf{0} &= \\mathbf{X}^\\top \\mathbf{e} \n",
    "\\\\\n",
    "&= \\mathbf{X}^\\top( \\hat{\\mathbf{y}} - \\mathbf{y}) \n",
    "\\\\\n",
    "&=  \\mathbf{X}^\\top( \\mathbf{X}\\boldsymbol{\\hat{\\beta}} - \\mathbf{y} ) \n",
    "\\\\\n",
    "\\mathbf{X}^\\top\\mathbf{X}\\boldsymbol{\\hat{\\beta}} &= \\mathbf{X}^\\top\\mathbf{y} \n",
    "\\\\\n",
    "\\boldsymbol{\\hat{\\beta}} &= \\left(\\mathbf{X}^\\top\\mathbf{X}\\right)^{-1}\\mathbf{X}^\\top\\mathbf{y}\n",
    "\\end{aligned}\n",
    "$$"
   ]
  },
  {
   "cell_type": "markdown",
   "metadata": {},
   "source": [
    "We can also add in a penalty term to get penalized regression."
   ]
  },
  {
   "cell_type": "markdown",
   "metadata": {},
   "source": [
    "$$\n",
    "\\begin{aligned}\n",
    "\\mathcal{L}(\\boldsymbol{\\beta}) &= \\frac{1}{2}||\\mathbf{y} - \\hat{\\mathbf{y}}||^2 + \\frac{\\lambda}{2}||\\boldsymbol{{\\beta}}||^2\n",
    "\\\\\n",
    "\\frac{\\partial \\mathcal{L}(\\boldsymbol{\\beta})}{\\partial \\boldsymbol{\\beta}} &= \\frac{\\partial \\mathcal{L}}{\\partial \\hat{\\mathbf{y}}}\\frac{\\partial \\hat{\\mathbf{y}}}{\\partial \\boldsymbol{\\beta}} + \\lambda \\boldsymbol{\\beta}\n",
    "\\\\\n",
    "&= \\mathbf{X}^\\top \\mathbf{e} + \\lambda \\boldsymbol{\\beta}\n",
    "\\end{aligned}\n",
    "$$"
   ]
  },
  {
   "cell_type": "markdown",
   "metadata": {},
   "source": [
    "Setting this equal to $\\mathbf{0}$, we get the Ridge Regression formula."
   ]
  },
  {
   "cell_type": "markdown",
   "metadata": {},
   "source": [
    "$$\n",
    "\\begin{aligned}\n",
    "\\mathbf{0}\n",
    "&=  \\mathbf{X}^\\top(\\mathbf{X}\\boldsymbol{\\hat{\\beta}} -  \\mathbf{y}) + \\lambda \\boldsymbol{\\hat{\\beta}} \n",
    "\\\\\n",
    "\\mathbf{X}^\\top\\mathbf{X}\\boldsymbol{\\hat{\\beta}} + \\lambda\\boldsymbol{\\hat{\\beta}} &= \\mathbf{X}^\\top\\mathbf{y} \n",
    "\\\\\n",
    "\\left(\\mathbf{X}^\\top\\mathbf{X} + \\mathbf{I}\\lambda\\right)\\boldsymbol{\\hat{\\beta}} &= \\mathbf{X}^\\top\\mathbf{y} \n",
    "\\\\\n",
    "\\boldsymbol{\\hat{\\beta}} &= \\left(\\mathbf{X}^\\top\\mathbf{X} + \\mathbf{I}\\lambda\\right)^{-1}\\mathbf{X}^\\top\\mathbf{y}\n",
    "\\end{aligned}\n",
    "$$"
   ]
  },
  {
   "cell_type": "code",
   "execution_count": 348,
   "metadata": {},
   "outputs": [],
   "source": [
    "# create data (X), parameters (betas), and output (y)\n",
    "import numpy as np\n",
    "np.random.seed(91)\n",
    "X_shape = 300,5\n",
    "X = np.random.randn(X_shape[0], X_shape[1]-1)\n",
    "X = np.concatenate((np.ones(X_shape[0]).reshape(X_shape[0],1), X), axis = 1)\n",
    "betas = 10*np.random.randn(X_shape[1])\n",
    "for i in np.random.choice(range(X.shape[1]), int(X.shape[1]/3)):\n",
    "    betas[i] = 0\n",
    "y = X @ betas + 10*np.random.randn(len(y))"
   ]
  },
  {
   "cell_type": "code",
   "execution_count": 352,
   "metadata": {},
   "outputs": [],
   "source": [
    "class LinReg:\n",
    "    \n",
    "    obj = 'LinReg Object'\n",
    "    \n",
    "    def __init__(self, name = None):\n",
    "        self.name = name\n",
    "       \n",
    "    \n",
    "    def fit_gd(self, X, y, lr = 0.001, stop = 0.0001, patience = 5, bhats = None, round_to = 3):\n",
    "        # add X and y to object\n",
    "        self.X = X\n",
    "        self.y = y\n",
    "        \n",
    "        # instantiate bhats if not provided\n",
    "        if bhats is None:\n",
    "            bhats = np.random.randn(X.shape[1])\n",
    "            \n",
    "        # original fit \n",
    "        yhat = X @ bhats \n",
    "        e = y - yhat \n",
    "        \n",
    "        # run it\n",
    "        last_p = [np.inf for i in range(patience)]\n",
    "        running = True\n",
    "        while running:\n",
    "            dLdB = X.T @ e\n",
    "            bhats -= lr*dLdB\n",
    "            yhat = X @ bhats\n",
    "            e = yhat - y\n",
    "            last_p = np.concatenate((last_p[1:], np.array([sum(e**2)])))\n",
    "            if min(last_p[:-1]) - last_p[-1] <0.001:\n",
    "                running = False\n",
    "           \n",
    "        # return final betas    \n",
    "        self.gd_bhats = [round(i, 3) for i in bhats]\n",
    "        \n",
    "        \n",
    "    def fit(self, X, y, round_to = 3):\n",
    "        # add X and y to object\n",
    "        self.X = X\n",
    "        self.y = y\n",
    "        bhats = np.linalg.inv(X.T @ X) @ X.T @ y\n",
    "        self.bhats = [round(i, 3) for i in bhats]\n",
    "        \n",
    "    def ridge(self, X, y, lam, round_to = 3):\n",
    "        self.X = X\n",
    "        self.y = y\n",
    "        bhats = np.linalg.inv(X.T @ X + np.eye(X.shape[1])*lam) @ X.T @ y\n",
    "        self.ridge_bhats = [round(i, 3) for i in bhats]\n",
    "        \n",
    "    def lasso(self, X, y, lam, lr = 0.0001, stop = 0.0001, patience = 5, bhats = None, round_to = 3):\n",
    "        self.X = X\n",
    "        self.y = y\n",
    "        if bhats is None: \n",
    "            bhats = np.random.randn(X.shape[1])\n",
    "            \n",
    "        # original fit \n",
    "        yhat = X @ bhats \n",
    "        e = y - yhat \n",
    "        \n",
    "        # run it\n",
    "        running = True\n",
    "        last_p = [np.inf for i in range(patience)]\n",
    "        while running:\n",
    "            dLdB = X.T @ e + lam*abs(bhats)\n",
    "            bhats -= lr*dLdB\n",
    "            yhat = X @ bhats\n",
    "            e = yhat - y\n",
    "            last_p = np.concatenate((last_p[1:], np.array([sum(e**2) + sum(abs(bhats))])))\n",
    "            if min(last_p[:-1]) - last_p[-1] <0.001:\n",
    "                running = False\n",
    "        self.lasso_bhats = [round(i, 3) for i in bhats]\n",
    "        \n",
    "    def predict(self, data = None, fitter = 'fit'):\n",
    "        if data is None:\n",
    "            data = self.X\n",
    "        if fitter == 'fit':\n",
    "            yhat = data @ self.bhats\n",
    "        elif fitter == 'gd':\n",
    "            yhat = data @ self.gd_bhats\n",
    "        elif fitter == 'ridge':\n",
    "            yhat = data @ self.ridge_bhats\n",
    "        return(yhat)\n",
    "    \n",
    "        \n",
    "LR = LinReg()\n",
    "LR.fit_gd(X, y)\n",
    "LR.fit(X, y)\n",
    "LR.ridge(X, y, lam = 100)\n",
    "LR.lasso(X, y, lam = 100)\n",
    "yhat = LR.predict(data = X)"
   ]
  },
  {
   "cell_type": "code",
   "execution_count": 359,
   "metadata": {},
   "outputs": [
    {
     "data": {
      "text/plain": [
       "[13.836, 0.227, -30.021, 0.0, 4.902]"
      ]
     },
     "execution_count": 359,
     "metadata": {},
     "output_type": "execute_result"
    }
   ],
   "source": [
    "[round(i, 3) for i in betas]"
   ]
  },
  {
   "cell_type": "code",
   "execution_count": 353,
   "metadata": {},
   "outputs": [
    {
     "data": {
      "text/plain": [
       "[13.353, -0.072, -30.279, -0.692, 4.448]"
      ]
     },
     "execution_count": 353,
     "metadata": {},
     "output_type": "execute_result"
    }
   ],
   "source": [
    "LR.bhats"
   ]
  },
  {
   "cell_type": "code",
   "execution_count": 354,
   "metadata": {},
   "outputs": [
    {
     "data": {
      "text/plain": [
       "[13.353, -0.072, -30.277, -0.692, 4.45]"
      ]
     },
     "execution_count": 354,
     "metadata": {},
     "output_type": "execute_result"
    }
   ],
   "source": [
    "LR.gd_bhats"
   ]
  },
  {
   "cell_type": "code",
   "execution_count": 355,
   "metadata": {},
   "outputs": [
    {
     "data": {
      "text/plain": [
       "[9.668, -0.213, -22.67, -0.567, 3.867]"
      ]
     },
     "execution_count": 355,
     "metadata": {},
     "output_type": "execute_result"
    }
   ],
   "source": [
    "LR.ridge_bhats"
   ]
  },
  {
   "cell_type": "code",
   "execution_count": 356,
   "metadata": {},
   "outputs": [
    {
     "data": {
      "text/plain": [
       "[8.717, -0.093, -31.144, -1.037, 3.348]"
      ]
     },
     "execution_count": 356,
     "metadata": {},
     "output_type": "execute_result"
    }
   ],
   "source": [
    "LR.lasso_bhats"
   ]
  },
  {
   "cell_type": "code",
   "execution_count": 357,
   "metadata": {},
   "outputs": [
    {
     "data": {
      "image/png": "[encoded data removed]",
      "text/plain": [
       "<Figure size 432x288 with 1 Axes>"
      ]
     },
     "metadata": {
      "needs_background": "light"
     },
     "output_type": "display_data"
    }
   ],
   "source": [
    "import seaborn as sns\n",
    "sns.scatterplot(y, yhat);"
   ]
  }
 ],
 "metadata": {
  "kernelspec": {
   "display_name": "Python 3",
   "language": "python",
   "name": "python3"
  },
  "language_info": {
   "codemirror_mode": {
    "name": "ipython",
    "version": 3
   },
   "file_extension": ".py",
   "mimetype": "text/x-python",
   "name": "python",
   "nbconvert_exporter": "python",
   "pygments_lexer": "ipython3",
   "version": "3.7.6"
  }
 },
 "nbformat": 4,
 "nbformat_minor": 4
}
